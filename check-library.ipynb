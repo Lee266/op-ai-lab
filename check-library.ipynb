{
 "cells": [
  {
   "cell_type": "code",
   "execution_count": null,
   "id": "ba26a5ae-74eb-4c48-8b56-74f66ff91826",
   "metadata": {},
   "outputs": [],
   "source": [
    "import sys\n",
    "import torch\n",
    "import torchvision\n",
    "import timm\n",
    "import os"
   ]
  },
  {
   "cell_type": "code",
   "execution_count": null,
   "id": "6a191449-65a5-4a6b-9e8f-f4bc496e71fc",
   "metadata": {},
   "outputs": [],
   "source": [
    "print(\"Python\", sys.version)\n",
    "print(\"PyTorch\",torch.__version__)\n",
    "print(sys.path)\n",
    "\n",
    "print(torchvision.__version__)\n",
    "current_directory = os.getcwd()"
   ]
  },
  {
   "cell_type": "code",
   "execution_count": null,
   "id": "b3be6feb",
   "metadata": {},
   "outputs": [],
   "source": [
    "# GPUが利用可能かどうかを確認\n",
    "if torch.cuda.is_available():\n",
    "    # 利用可能なGPUの数を取得\n",
    "    gpu_count = torch.cuda.device_count()\n",
    "    print(f\"GPUが利用可能です。利用可能なGPUの数: {gpu_count}\")\n",
    "\n",
    "    # 現在のデフォルトのGPUデバイスを取得\n",
    "    current_device = torch.cuda.current_device()\n",
    "    print(f\"現在のデフォルトのGPUデバイス: {current_device}\")\n",
    "\n",
    "    # 利用可能なGPUデバイスのリストを取得\n",
    "    gpu_list = [torch.cuda.get_device_name(i) for i in range(gpu_count)]\n",
    "    print(f\"利用可能なGPUデバイスのリスト: {gpu_list}\")\n",
    "\n",
    "    # 現在のGPUの名前を取得\n",
    "    current_device_name = torch.cuda.get_device_name(current_device)\n",
    "    print(f\"現在のGPUの名前: {current_device_name}\")\n",
    "else:\n",
    "    print(\"GPUは利用できません。CPUが使用されます。\")"
   ]
  },
  {
   "cell_type": "code",
   "execution_count": null,
   "id": "6e66f963-c214-4c50-b263-608f750e6095",
   "metadata": {},
   "outputs": [],
   "source": [
    "import os\n",
    "\n",
    "def display_tree(start_path, indent=''):\n",
    "    \"\"\"\n",
    "    ツリー上のファイル構造を表示する関数\n",
    "\n",
    "    Parameters:\n",
    "        start_path (str): 表示を開始するディレクトリのパス\n",
    "        indent (str): インデント用の文字列\n",
    "\n",
    "    Returns:\n",
    "        None\n",
    "    \"\"\"\n",
    "    if os.path.isdir(start_path):\n",
    "        print(f\"{indent}📁 {os.path.basename(start_path)}\")  # ディレクトリを表示\n",
    "\n",
    "        # サブディレクトリとファイルを再帰的に表示\n",
    "        for item in os.listdir(start_path):\n",
    "            item_path = os.path.join(start_path, item)\n",
    "            display_tree(item_path, indent + '  ー')  # インデントを増やして再帰呼び出し\n",
    "\n",
    "    else:\n",
    "        print(f\"{indent}📄 {os.path.basename(start_path)}\")  # ファイルを表示\n",
    "\n",
    "# ファイル構造を表示するディレクトリのパス\n",
    "directory_path = '/usr/src/ai-lab/src'\n",
    "\n",
    "# ツリー上のファイル構造を表示\n",
    "display_tree(directory_path)"
   ]
  },
  {
   "cell_type": "code",
   "execution_count": null,
   "id": "80be19b4",
   "metadata": {},
   "outputs": [],
   "source": []
  }
 ],
 "metadata": {
  "kernelspec": {
   "display_name": "Python 3 (ipykernel)",
   "language": "python",
   "name": "python3"
  },
  "language_info": {
   "codemirror_mode": {
    "name": "ipython",
    "version": 3
   },
   "file_extension": ".py",
   "mimetype": "text/x-python",
   "name": "python",
   "nbconvert_exporter": "python",
   "pygments_lexer": "ipython3",
   "version": "3.8.10"
  }
 },
 "nbformat": 4,
 "nbformat_minor": 5
}
