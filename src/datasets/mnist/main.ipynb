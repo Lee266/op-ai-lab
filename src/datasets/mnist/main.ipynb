{
 "cells": [
  {
   "cell_type": "markdown",
   "metadata": {},
   "source": [
    "\"\"\" MNIST dataset\n",
    "- データセットの種類: クラス分類\n",
    "- 画像枚数(学習用): 60000枚\n",
    "- 画像枚数(テスト用): 10000枚\n",
    "- 画像サイズ: 28 * 28のグレースケール画像\n",
    "\"\"\""
   ]
  },
  {
   "cell_type": "code",
   "execution_count": null,
   "metadata": {},
   "outputs": [],
   "source": [
    "import torch\n",
    "import torchvision\n",
    "import torchvision.transforms as transforms\n",
    "import matplotlib.pyplot as plt\n",
    "import numpy as np\n",
    "from torch.utils.data import DataLoader"
   ]
  },
  {
   "cell_type": "code",
   "execution_count": null,
   "metadata": {},
   "outputs": [],
   "source": [
    "# データの前処理\n",
    "transform = transforms.Compose([\n",
    "  transforms.Grayscale(num_output_channels=3),  # 1チャンネルを3チャンネルに変換\n",
    "  transforms.Resize((224, 224)),  # ViTモデルは大きな画像が必要\n",
    "  transforms.ToTensor()\n",
    "  transforms.Normalize((0.5,), (0.5,))\n",
    "])"
   ]
  },
  {
   "cell_type": "code",
   "execution_count": null,
   "metadata": {},
   "outputs": [],
   "source": [
    "# MNISTデータセットのダウンロードとロード\n",
    "train_dataset = torchvision.datasets.MNIST(root='./data', train=True, transform=transform, download=True)\n",
    "test_dataset = torchvision.datasets.MNIST(root='./data', train=False, transform=transform, download=True)"
   ]
  },
  {
   "cell_type": "code",
   "execution_count": null,
   "metadata": {},
   "outputs": [],
   "source": [
    "print(train_dataset)"
   ]
  },
  {
   "cell_type": "code",
   "execution_count": null,
   "metadata": {},
   "outputs": [],
   "source": [
    "# データローダーの作成\n",
    "batch_size = 64\n",
    "train_loader = DataLoader(train_dataset, batch_size=batch_size, shuffle=True, num_workers=2)\n",
    "test_loader = DataLoader(test_dataset, batch_size=batch_size, shuffle=False, num_workers=2)"
   ]
  },
  {
   "cell_type": "code",
   "execution_count": null,
   "metadata": {},
   "outputs": [],
   "source": [
    "from util.show_images import ShowImages\n",
    "# ShowImagesクラスのインスタンスを作成\n",
    "show_images_instance = ShowImages()\n",
    "\n",
    "# testメソッドを呼び出す\n",
    "show_images_instance.show_images(dataset=train_dataset, num_images_to_display=50)"
   ]
  },
  {
   "cell_type": "code",
   "execution_count": null,
   "metadata": {},
   "outputs": [],
   "source": [
    "import torch.nn as nn\n",
    "from torchvision.models import VisionTransformer, vit_b_16\n",
    "import torch.optim as optim\n",
    "\n",
    "device = torch.device(\"cuda\" if torch.cuda.is_available() else \"cpu\")\n",
    "\n",
    "# Vision Transformerモデルの定義\n",
    "class ViT_MNIST(nn.Module):\n",
    "    def __init__(self, vit_model):\n",
    "        super(ViT_MNIST, self).__init__()\n",
    "        self.features = vit_model.features\n",
    "        self.avgpool = vit_model.avgpool\n",
    "        self.classifier = nn.Sequential(\n",
    "            nn.Linear(768, 10),  # MNISTのクラス数は10\n",
    "            nn.Softmax(dim=1)\n",
    "        )\n",
    "\n",
    "    def forward(self, x):\n",
    "        x = self.features(x)\n",
    "        x = self.avgpool(x)\n",
    "        x = torch.flatten(x, 1)\n",
    "        x = self.classifier(x)\n",
    "        return x\n",
    "\n",
    "# ViTモデルのインスタンス化\n",
    "vit_model = vit_b_16(pretrained=True)  # 事前学習済みの重みを使用する場合\n",
    "# vit_model = vit_b_16()  # 事前学習済みの重みを使用しない場合\n",
    "\n",
    "# ViT_MNISTモデルのインスタンス化\n",
    "model = ViT_MNIST(vit_model).to(device)\n",
    "\n",
    "# 損失関数と最適化アルゴリズムの定義\n",
    "criterion = nn.CrossEntropyLoss()\n",
    "optimizer = optim.Adam(model.parameters(), lr=0.001)\n",
    "\n",
    "# トレーニング\n",
    "num_epochs = 5\n",
    "\n",
    "for epoch in range(num_epochs):\n",
    "    running_loss = 0.0\n",
    "    for i, data in enumerate(train_loader, 0):\n",
    "        inputs, labels = data\n",
    "        inputs, labels = inputs.to(device), labels.to(device)\n",
    "\n",
    "        optimizer.zero_grad()\n",
    "\n",
    "        outputs = model(inputs)\n",
    "        loss = criterion(outputs, labels)\n",
    "        loss.backward()\n",
    "        optimizer.step()\n",
    "\n",
    "        running_loss += loss.item()\n",
    "\n",
    "    print(f\"Epoch {epoch + 1}/{num_epochs}, Loss: {running_loss / len(train_loader)}\")\n",
    "    \n",
    "\n",
    "print(\"Finished Training\")\n",
    "\n",
    "# テスト\n",
    "correct = 0\n",
    "total = 0\n",
    "\n",
    "with torch.no_grad():\n",
    "    for data in test_loader:\n",
    "        inputs, labels = data\n",
    "        inputs, labels = inputs.to(device), labels.to(device)\n",
    "        outputs = model(inputs)\n",
    "        _, predicted = torch.max(outputs.data, 1)\n",
    "        total += labels.size(0)\n",
    "        correct += (predicted == labels).sum().item()\n",
    "\n",
    "print(f\"Accuracy on the test set: {100 * correct / total}%\")"
   ]
  },
  {
   "cell_type": "code",
   "execution_count": null,
   "metadata": {},
   "outputs": [],
   "source": [
    "import torch\n",
    "import torchvision\n",
    "from torchvision import transforms\n",
    "from PIL import Image\n",
    "\n",
    "# Transform to convert tensor to PIL image\n",
    "to_pil_image = transforms.ToPILImage()\n",
    "\n",
    "# MNIST dataset\n",
    "transform = transforms.Compose([transforms.ToTensor()])\n",
    "train_dataset = torchvision.datasets.MNIST(root='./data', train=True, transform=transform, download=True)\n",
    "\n",
    "# Save sample images as PNG\n",
    "for i in range(5):  # Save the first 5 images as examples\n",
    "    image, label = train_dataset[i]\n",
    "    image_pil = to_pil_image(image)\n",
    "    image_pil.save(f\"image/sample_{i}.png\")\n",
    "\n",
    "print(\"Sample images saved successfully.\")"
   ]
  },
  {
   "cell_type": "code",
   "execution_count": null,
   "metadata": {},
   "outputs": [],
   "source": []
  }
 ],
 "metadata": {
  "kernelspec": {
   "display_name": "Python 3",
   "language": "python",
   "name": "python3"
  },
  "language_info": {
   "codemirror_mode": {
    "name": "ipython",
    "version": 3
   },
   "file_extension": ".py",
   "mimetype": "text/x-python",
   "name": "python",
   "nbconvert_exporter": "python",
   "pygments_lexer": "ipython3",
   "version": "3.8.10"
  }
 },
 "nbformat": 4,
 "nbformat_minor": 2
}
