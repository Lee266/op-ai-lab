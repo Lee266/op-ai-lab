{
 "cells": [
  {
   "cell_type": "code",
   "execution_count": null,
   "metadata": {},
   "outputs": [],
   "source": [
    "import os\n",
    "import shutil\n",
    "from util.noise import Noise\n",
    "from util.path_functions import PathFunctions\n"
   ]
  },
  {
   "cell_type": "code",
   "execution_count": null,
   "metadata": {},
   "outputs": [],
   "source": [
    "noise_instance = Noise()"
   ]
  },
  {
   "cell_type": "markdown",
   "metadata": {},
   "source": [
    "## Create Overlay Attack images (0~9)"
   ]
  },
  {
   "cell_type": "code",
   "execution_count": null,
   "metadata": {},
   "outputs": [],
   "source": [
    "alphaList = [0.01, 0.05, 0.08, 0.1, 0.2, 0.5]"
   ]
  },
  {
   "cell_type": "code",
   "execution_count": null,
   "metadata": {},
   "outputs": [],
   "source": [
    "for i in range(10):\n",
    "  directory = f\"./Image/attack/overlay/{i}/\"\n",
    "  if not os.path.exists(directory):\n",
    "    os.makedirs(directory)"
   ]
  },
  {
   "cell_type": "code",
   "execution_count": null,
   "metadata": {},
   "outputs": [],
   "source": [
    "for i in range(10):\n",
    "    base_label = i\n",
    "    for j in range(10):\n",
    "      overlay_label = j\n",
    "      output_folder = f\"datasets/mnist/Image/attack/overlay/{base_label}/\"\n",
    "      base_Image_Path = f\"datasets/mnist/Image/number_{base_label}.png\"\n",
    "      over_Lay_Path = f\"datasets/mnist/Image/number_{overlay_label}.png\"\n",
    "\n",
    "      for alpha in alphaList:\n",
    "          output_path = f\"{output_folder}/number_{base_label}_to_number_{overlay_label}_alpha{alpha}.png\"\n",
    "          noise_instance.overlay_images(background_path=base_Image_Path, overlay_path=over_Lay_Path, output_path=output_path, alpha=alpha)"
   ]
  },
  {
   "cell_type": "markdown",
   "metadata": {},
   "source": [
    "## Patch Attack"
   ]
  },
  {
   "cell_type": "code",
   "execution_count": null,
   "metadata": {},
   "outputs": [],
   "source": [
    "alphaList = [0.05, 0.08, 0.1, 0.2, 0.5, 0.8, 1]"
   ]
  },
  {
   "cell_type": "code",
   "execution_count": null,
   "metadata": {},
   "outputs": [],
   "source": [
    "folder_path = f\"/datasets/mnist/Image/OverlayImages\"\n",
    "files = PathFunctions.getFileList(folder_path)\n",
    "print(files)"
   ]
  },
  {
   "cell_type": "code",
   "execution_count": null,
   "metadata": {},
   "outputs": [],
   "source": [
    "for i in range(10):\n",
    "    directory = f\"./Image/attack/patch/{i}/\"\n",
    "    try:\n",
    "        # Check if the directory exists\n",
    "        if os.path.exists(directory):\n",
    "            # Remove all files and subdirectories within the directory\n",
    "            shutil.rmtree(directory)\n",
    "            # Recreate the empty directory\n",
    "            os.makedirs(directory)\n",
    "            print(f\"Directory {directory} successfully cleared.\")\n",
    "        else:\n",
    "            print(f\"Directory {directory} does not exist.\")\n",
    "    except Exception as e:\n",
    "        print(f\"An error occurred while clearing directory {directory}: {e}\")"
   ]
  },
  {
   "cell_type": "code",
   "execution_count": null,
   "metadata": {},
   "outputs": [],
   "source": [
    "for index, overlayName in enumerate(files):\n",
    "    for i in range(10):\n",
    "        base_label = i\n",
    "        output_folder = f\"datasets/mnist/Image/attack/patch/{base_label}\"\n",
    "        base_image_path = f\"datasets/mnist/Image/number_{base_label}_224.png\"\n",
    "        overlay_image_path = f\"datasets/mnist/Image/OverlayImages/{overlayName}\"\n",
    "        for alpha in alphaList:\n",
    "            output_path = f\"{output_folder}/number_{index}_{base_label}_alpha{alpha}.png\"\n",
    "            noise_instance.overlay_images(\n",
    "                background_path=base_image_path, \n",
    "                overlay_path=overlay_image_path, \n",
    "                output_path=output_path, \n",
    "                alpha=alpha,\n",
    "                show_preview=False\n",
    "            )\n"
   ]
  },
  {
   "cell_type": "markdown",
   "metadata": {},
   "source": [
    "### パッチを作成"
   ]
  },
  {
   "cell_type": "code",
   "execution_count": null,
   "metadata": {},
   "outputs": [],
   "source": [
    "import os\n",
    "import numpy as np\n",
    "from PIL import Image"
   ]
  },
  {
   "cell_type": "code",
   "execution_count": null,
   "metadata": {},
   "outputs": [],
   "source": [
    "shutil.rmtree(\"./Image/OverlayImages/\")\n",
    "os.makedirs(\"./Image/OverlayImages/\")"
   ]
  },
  {
   "cell_type": "code",
   "execution_count": null,
   "metadata": {},
   "outputs": [],
   "source": [
    "# Function to create random overlay image\n",
    "def create_overlay_image(size=(244, 244)):\n",
    "    overlay_image = np.random.randint(0, 256, size + (3,), dtype=np.uint8)\n",
    "    return Image.fromarray(overlay_image)\n",
    "\n",
    "# Create a directory for overlay images\n",
    "overlay_directory = \"./Image/OverlayImages/\"\n",
    "if not os.path.exists(overlay_directory):\n",
    "    os.makedirs(overlay_directory)\n",
    "\n",
    "# Generate and save multiple overlay images\n",
    "num_overlay_images = 1# You can adjust this based on your needs\n",
    "\n",
    "for overlay_label in range(num_overlay_images):\n",
    "    overlay_image = create_overlay_image()\n",
    "    overlay_path = f\"./Image/overlay_{overlay_label}.png\"\n",
    "    overlay_image.save(overlay_path)\n",
    "\n",
    "print(f\"{num_overlay_images} overlay images created and saved.\")"
   ]
  },
  {
   "cell_type": "code",
   "execution_count": null,
   "metadata": {},
   "outputs": [],
   "source": [
    "overlay_directory = \"./Image/OverlayImages/\"\n",
    "overlay_image_path = f\"./Image/overlay_0.png\"\n",
    "overlay_image = Image.open(overlay_image_path)\n",
    "combined_image = Image.new(\"RGBA\", (224, 224), (0, 0, 0, 0))\n",
    "baseImageSize = overlay_image.size[0]\n",
    "\n",
    "for i in range(baseImageSize, 224-baseImageSize, 30):\n",
    "  combined_image = Image.new(\"RGBA\", (224, 224), (0, 0, 0, 0))\n",
    "  for j in range(baseImageSize, 224-baseImageSize, 30):\n",
    "    path = f\"{overlay_directory}/overlay_{i}_{j}.png\"\n",
    "    combined_image.paste(overlay_image, (i, j))\n",
    "    combined_image.save(path)\n",
    "    combined_image = Image.new(\"RGBA\", (224, 224), (0, 0, 0, 0))"
   ]
  },
  {
   "cell_type": "code",
   "execution_count": null,
   "metadata": {},
   "outputs": [],
   "source": [
    "# 122*122\n",
    "overlay_directory = \"./Image/OverlayImages/\"\n",
    "overlay_image_path = f\"./Image/overlay_0.png\"\n",
    "overlay_image = Image.open(overlay_image_path)\n",
    "combined_image = Image.new(\"RGBA\", (224, 224), (0, 0, 0, 0))\n",
    "baseImageSize = overlay_image.size[0]\n",
    "print(baseImageSize)\n",
    "\n",
    "for i in [0, 112]:\n",
    "  combined_image = Image.new(\"RGBA\", (224, 224), (0, 0, 0, 0))\n",
    "  for j in [0, 112]:\n",
    "    path = f\"{overlay_directory}/overlay_{i}_{j}.png\"\n",
    "    combined_image.paste(overlay_image, (i, j))\n",
    "    combined_image.save(path)\n",
    "    combined_image = Image.new(\"RGBA\", (224, 224), (0, 0, 0, 0))"
   ]
  },
  {
   "cell_type": "code",
   "execution_count": null,
   "metadata": {},
   "outputs": [],
   "source": [
    "# 224*224\n",
    "overlay_directory = \"./Image/OverlayImages/\"\n",
    "overlay_image_path = f\"./Image/overlay_0.png\"\n",
    "overlay_image = Image.open(overlay_image_path)\n",
    "combined_image = Image.new(\"RGBA\", (224, 224), (0, 0, 0, 0))\n",
    "baseImageSize = overlay_image.size[0]\n",
    "path = f\"{overlay_directory}/overlay_{0}_{0}.png\"\n",
    "combined_image.paste(overlay_image, (0, 0))\n",
    "combined_image.save(path)\n"
   ]
  },
  {
   "cell_type": "code",
   "execution_count": null,
   "metadata": {},
   "outputs": [],
   "source": []
  }
 ],
 "metadata": {
  "kernelspec": {
   "display_name": "Python 3",
   "language": "python",
   "name": "python3"
  },
  "language_info": {
   "codemirror_mode": {
    "name": "ipython",
    "version": 3
   },
   "file_extension": ".py",
   "mimetype": "text/x-python",
   "name": "python",
   "nbconvert_exporter": "python",
   "pygments_lexer": "ipython3",
   "version": "3.8.10"
  }
 },
 "nbformat": 4,
 "nbformat_minor": 2
}
