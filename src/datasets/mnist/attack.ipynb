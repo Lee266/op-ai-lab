{
 "cells": [
  {
   "cell_type": "code",
   "execution_count": 13,
   "metadata": {},
   "outputs": [],
   "source": [
    "import os\n",
    "from util.noise import Noise"
   ]
  },
  {
   "cell_type": "code",
   "execution_count": 14,
   "metadata": {},
   "outputs": [
    {
     "name": "stdout",
     "output_type": "stream",
     "text": [
      "Active Time instance created\n"
     ]
    }
   ],
   "source": [
    "noise_instance = Noise()\n",
    "alphaList = [0.01, 0.05, 0.08, 0.1, 0.2, 0.5]"
   ]
  },
  {
   "cell_type": "markdown",
   "metadata": {},
   "source": [
    "## Create Overlay Attack images (0~9)"
   ]
  },
  {
   "cell_type": "code",
   "execution_count": 11,
   "metadata": {},
   "outputs": [],
   "source": [
    "for i in range(10):\n",
    "  directory = f\"./Image/attack/overlay/{i}/\"\n",
    "  if not os.path.exists(directory):\n",
    "    os.makedirs(directory)"
   ]
  },
  {
   "cell_type": "code",
   "execution_count": 12,
   "metadata": {},
   "outputs": [],
   "source": [
    "for i in range(10):\n",
    "    base_label = i\n",
    "    for j in range(10):\n",
    "      overlay_label = j\n",
    "      output_folder = f\"./Image/attack/overlay/{base_label}/\"\n",
    "      base_Image_Path = f\"./Image/number_{base_label}.png\"\n",
    "      over_Lay_Path = f\"./Image/number_{overlay_label}.png\"\n",
    "\n",
    "      for alpha in alphaList:\n",
    "          output_path = f\"{output_folder}/number_{base_label}_to_number_{overlay_label}_alpha{alpha}.png\"\n",
    "          noise_instance.overlay_images(background_path=base_Image_Path, overlay_path=over_Lay_Path, output_path=output_path, alpha=alpha)"
   ]
  },
  {
   "cell_type": "code",
   "execution_count": null,
   "metadata": {},
   "outputs": [],
   "source": [
    "# base_label = 0\n",
    "# overlay_label = 4\n",
    "# alphaList = [0.01, 0.02, 0.03, 0.05, 0.08, 0.1, 0.2]\n",
    "# output_folder = f\"./Image/attack/{base_label}\"\n",
    "# base_Image_Path = f\"./Image/number_{base_label}.png\"\n",
    "# over_Lay_Path = f\"./Image/number_{overlay_label}.png\"\n",
    "\n",
    "# for alpha in alphaList:\n",
    "#     output_path = f\"{output_folder}/number_{base_label}_to_number_{overlay_label}_{alpha}.png\"\n",
    "#     noise_instance.overlay_images(background_path=base_Image_Path, overlay_path=over_Lay_Path, output_path=output_path, alpha=alpha)"
   ]
  }
 ],
 "metadata": {
  "kernelspec": {
   "display_name": "Python 3",
   "language": "python",
   "name": "python3"
  },
  "language_info": {
   "codemirror_mode": {
    "name": "ipython",
    "version": 3
   },
   "file_extension": ".py",
   "mimetype": "text/x-python",
   "name": "python",
   "nbconvert_exporter": "python",
   "pygments_lexer": "ipython3",
   "version": "3.8.10"
  }
 },
 "nbformat": 4,
 "nbformat_minor": 2
}
