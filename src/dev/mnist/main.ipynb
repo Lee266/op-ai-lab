{
 "cells": [
  {
   "cell_type": "code",
   "execution_count": null,
   "metadata": {},
   "outputs": [],
   "source": [
    "from util.notification import Notification"
   ]
  },
  {
   "cell_type": "code",
   "execution_count": null,
   "metadata": {},
   "outputs": [],
   "source": [
    "notificationInstants = Notification()\n",
    "channel=\"vit-team\"\n",
    "TRAIN = False\n",
    "VISUALIZATION = True\n",
    "EVALUATE = False\n",
    "\n",
    "# 各 notebook の実行状態 (True: 実行, False: 非実行)\n",
    "train_notebook_status = {\n",
    "  \"resnet/main.ipynb\": True,\n",
    "  \"vgg/main.ipynb\": True,\n",
    "  \"vision-transformer/main.ipynb\": True,\n",
    "  \"swin/main.ipynb\": True,\n",
    "}\n",
    "visualization_notebook_states = {\n",
    "  \"vision-transformer/visualization.ipynb\": True,\n",
    "}\n",
    "evaluate_notebook_states = {\n",
    "  \"vision-transformer/evaluate.ipynb\": True\n",
    "}"
   ]
  },
  {
   "cell_type": "code",
   "execution_count": null,
   "metadata": {},
   "outputs": [],
   "source": [
    "def run_notebook(notebook_path):\n",
    "    try:\n",
    "        %run $notebook_path\n",
    "    except Exception as e:\n",
    "        message = f\"Error: {notebook_path}\"\n",
    "        notificationInstants.send_slack_notification(message=message, channel=channel)"
   ]
  },
  {
   "cell_type": "code",
   "execution_count": null,
   "metadata": {},
   "outputs": [],
   "source": [
    "if __name__ == '__main__':\n",
    "    if TRAIN:\n",
    "        for notebook, state in train_notebook_status.items():\n",
    "            if state:\n",
    "                run_notebook(notebook)\n",
    "    elif VISUALIZATION:\n",
    "        for notebook, state in visualization_notebook_states.items():\n",
    "            if state:\n",
    "                run_notebook(notebook)\n",
    "    elif EVALUATE:\n",
    "        for notebook, state in evaluate_notebook_states.items():\n",
    "            if state:\n",
    "                run_notebook(notebook)"
   ]
  },
  {
   "cell_type": "code",
   "execution_count": null,
   "metadata": {},
   "outputs": [],
   "source": []
  }
 ],
 "metadata": {
  "kernelspec": {
   "display_name": "Python 3",
   "language": "python",
   "name": "python3"
  },
  "language_info": {
   "codemirror_mode": {
    "name": "ipython",
    "version": 3
   },
   "file_extension": ".py",
   "mimetype": "text/x-python",
   "name": "python",
   "nbconvert_exporter": "python",
   "pygments_lexer": "ipython3",
   "version": "3.8.10"
  }
 },
 "nbformat": 4,
 "nbformat_minor": 2
}
