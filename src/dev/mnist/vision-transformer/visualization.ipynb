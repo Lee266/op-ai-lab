{
 "cells": [
  {
   "cell_type": "markdown",
   "metadata": {},
   "source": [
    "# 可視化"
   ]
  },
  {
   "cell_type": "code",
   "execution_count": null,
   "metadata": {},
   "outputs": [],
   "source": [
    "import models\n",
    "from util.visualization import Visualization\n",
    "\n",
    "SAVEFILENAME = \"mnist-vit\"\n",
    "SAVEWEIGHTPATH = f\"dev/result/weight/{SAVEFILENAME}.pth\"\n",
    "SAVEPDFPATH = f\"dev/result/img/{SAVEFILENAME}.pdf\""
   ]
  },
  {
   "cell_type": "markdown",
   "metadata": {},
   "source": [
    "## 位置埋め込み"
   ]
  },
  {
   "cell_type": "code",
   "execution_count": null,
   "metadata": {},
   "outputs": [],
   "source": [
    "print(\"-- Active position embedding\")\n",
    "Visualization_instance = Visualization()\n",
    "model = models.vit_tiny_16_224(pretrained=False, num_classes=10)\n",
    "chckpoint=SAVEWEIGHTPATH\n",
    "Visualization_instance.position_embedding(checkpointPath=chckpoint, model=model)"
   ]
  },
  {
   "cell_type": "markdown",
   "metadata": {},
   "source": [
    "## Attention Map"
   ]
  },
  {
   "cell_type": "code",
   "execution_count": null,
   "metadata": {},
   "outputs": [],
   "source": [
    "print(\"-- Active Attention Map\")\n",
    "Visualization_instance = Visualization()\n",
    "model = models.vit_tiny_16_224(pretrained=False, num_classes=10)\n",
    "checkpoint = SAVEWEIGHTPATH\n",
    "\n",
    "# List to store the results for each image\n",
    "imagesList = []\n",
    "\n",
    "pdf_path = SAVEPDFPATH\n",
    "\n",
    "\n",
    "for i in range(10):\n",
    "    image_path = f\"datasets/mnist/Image/number_{i}.png\"\n",
    "    results = Visualization_instance.attention_map(model=model, checkpointPath=checkpoint, imagePath=image_path)\n",
    "    # Append the results to the images list\n",
    "    imagesList.append(results)\n",
    "\n",
    "Visualization_instance.show_attention_map(imagesList=imagesList, pdfPath=pdf_path)\n",
    "\n",
    "print(f\"PDF file saved at: {pdf_path}\")"
   ]
  },
  {
   "cell_type": "code",
   "execution_count": null,
   "metadata": {},
   "outputs": [],
   "source": []
  }
 ],
 "metadata": {
  "kernelspec": {
   "display_name": "Python 3",
   "language": "python",
   "name": "python3"
  },
  "language_info": {
   "codemirror_mode": {
    "name": "ipython",
    "version": 3
   },
   "file_extension": ".py",
   "mimetype": "text/x-python",
   "name": "python",
   "nbconvert_exporter": "python",
   "pygments_lexer": "ipython3",
   "version": "3.8.10"
  }
 },
 "nbformat": 4,
 "nbformat_minor": 2
}
