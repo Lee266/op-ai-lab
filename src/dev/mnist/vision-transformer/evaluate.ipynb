{
 "cells": [
  {
   "cell_type": "code",
   "execution_count": null,
   "metadata": {},
   "outputs": [],
   "source": [
    "import models\n",
    "import torch\n",
    "from torchvision import transforms\n",
    "from util.path_functions import PathFunctions\n",
    "from PIL import Image\n",
    "import os\n",
    "from util.visualization import Visualization\n",
    "\n",
    "\n",
    "FILENAME = \"mnist-vit\"\n",
    "WEIGHTPATH = f\"dev/result/weight/{FILENAME}.pth\"\n",
    "SAVEPDFPATH = f\"dev/result/img/{FILENAME}-attack.pdf\"\n",
    "RESEIZE=224"
   ]
  },
  {
   "cell_type": "code",
   "execution_count": null,
   "metadata": {},
   "outputs": [],
   "source": [
    "def evaluate(model, image):\n",
    "  with torch.no_grad():\n",
    "    output = model(image)\n",
    "  return output"
   ]
  },
  {
   "cell_type": "code",
   "execution_count": null,
   "metadata": {},
   "outputs": [],
   "source": [
    "model = models.vit_tiny_16_224(pretrained=False, num_classes=10, img_size=RESEIZE)\n",
    "checkpoint = torch.load(PathFunctions.absolutePath(WEIGHTPATH))\n",
    "model.load_state_dict(checkpoint)\n",
    "model.eval()\n",
    "\n",
    "transform = transforms.Compose([\n",
    "    transforms.Grayscale(num_output_channels=3),  # 1チャンネルを3チャンネルに変換\n",
    "    transforms.Resize((RESEIZE, RESEIZE)),  # ViTモデルは大きな画像が必要\n",
    "    transforms.ToTensor()\n",
    "])"
   ]
  },
  {
   "cell_type": "code",
   "execution_count": null,
   "metadata": {},
   "outputs": [],
   "source": [
    "# # フォルダのパス\n",
    "# folder_path = \"/datasets/mnist/Image/attack/0/\"\n",
    "\n",
    "# # フォルダ内のファイル一覧を取得\n",
    "# files = PathFunctions.getFileList(folder_path)\n",
    "# print(files)\n",
    "\n",
    "# for file in files:\n",
    "#     file = PathFunctions.absolutePath(os.path.join(folder_path + file))\n",
    "#     image = Image.open(file).convert('RGB')\n",
    "#     image = transform(image)\n",
    "#     image = image.unsqueeze(0)\n",
    "#     output = evaluate(model=model, image=image)\n",
    "#     print(output)"
   ]
  },
  {
   "cell_type": "markdown",
   "metadata": {},
   "source": [
    "## Black Box Attacks"
   ]
  },
  {
   "cell_type": "code",
   "execution_count": null,
   "metadata": {},
   "outputs": [],
   "source": [
    "for i in range(1):\n",
    "    folder_path = f\"/datasets/mnist/Image/attack/overlay/{i}/\"\n",
    "    files = PathFunctions.getFileList(folder_path)\n",
    "    for file in files:\n",
    "        file = PathFunctions.absolutePath(os.path.join(folder_path + file))\n",
    "        image = Image.open(file).convert('RGB')\n",
    "        image = transform(image)\n",
    "        image = image.unsqueeze(0)\n",
    "        output = evaluate(model=model, image=image)\n",
    "        output_np = output.numpy()\n"
   ]
  },
  {
   "cell_type": "code",
   "execution_count": null,
   "metadata": {},
   "outputs": [],
   "source": [
    "# # フォルダのパス\n",
    "# folder_path = \"/datasets/mnist/Image/attack/0/\"\n",
    "\n",
    "# # フォルダ内のファイル一覧を取得\n",
    "# files = PathFunctions.getFileList(folder_path)\n",
    "# print(files)\n",
    "\n",
    "# for file in files:\n",
    "#     file = PathFunctions.absolutePath(os.path.join(folder_path + file))\n",
    "#     image = Image.open(file).convert('RGB')\n",
    "#     image = transform(image)\n",
    "#     image = image.unsqueeze(0)\n",
    "#     output = evaluate(model=model, image=image)\n",
    "#     print(output)"
   ]
  },
  {
   "cell_type": "code",
   "execution_count": null,
   "metadata": {},
   "outputs": [],
   "source": [
    "print(\"-- Active Attention Map\")\n",
    "Visualization_instance = Visualization()\n",
    "model = models.vit_tiny_16_224(pretrained=False, num_classes=10)\n",
    "\n",
    "# List to store the results for each image\n",
    "\n",
    "for i in range(10):\n",
    "    folder_path = f\"/datasets/mnist/Image/attack/overlay/{i}/\"\n",
    "    files = PathFunctions.getFileList(folder_path)\n",
    "    files_per_group = 6\n",
    "    files_groups = [files[i:i + files_per_group] for i in range(0, len(files), files_per_group)]\n",
    "    for chnageNum, files_group in enumerate(files_groups):\n",
    "        imagesList = []\n",
    "        for file in files_group:\n",
    "            file = os.path.join(folder_path + file)\n",
    "            results = Visualization_instance.attention_map(model=model, checkpointPath=WEIGHTPATH, imagePath=file)\n",
    "            # Append the results to the images list\n",
    "            imagesList.append(results)\n",
    "        Visualization_instance.show_attention_map(imagesList=imagesList, pdfPath=SAVEPDFPATH+f\"{i}_\"+f\"{chnageNum}.pdf\")\n"
   ]
  },
  {
   "cell_type": "code",
   "execution_count": null,
   "metadata": {},
   "outputs": [],
   "source": []
  },
  {
   "cell_type": "code",
   "execution_count": null,
   "metadata": {},
   "outputs": [],
   "source": []
  }
 ],
 "metadata": {
  "kernelspec": {
   "display_name": "Python 3",
   "language": "python",
   "name": "python3"
  },
  "language_info": {
   "codemirror_mode": {
    "name": "ipython",
    "version": 3
   },
   "file_extension": ".py",
   "mimetype": "text/x-python",
   "name": "python",
   "nbconvert_exporter": "python",
   "pygments_lexer": "ipython3",
   "version": "3.8.10"
  }
 },
 "nbformat": 4,
 "nbformat_minor": 2
}
