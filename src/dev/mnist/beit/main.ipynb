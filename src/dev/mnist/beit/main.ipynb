{
 "cells": [
  {
   "cell_type": "code",
   "execution_count": null,
   "metadata": {},
   "outputs": [],
   "source": [
    "import torch\n",
    "import torch.nn as nn\n",
    "from torch.optim import lr_scheduler\n",
    "import models\n",
    "import argparse\n",
    "from timm.optim import create_optimizer\n",
    "from timm.utils import accuracy, AverageMeter\n",
    "from datasets.mnist.mnist_data import get_mnist_dataset\n",
    "from util.show_images import ShowImages\n",
    "from util.visualization import Visualization\n",
    "from torchvision import transforms\n",
    "import time\n",
    "import matplotlib.pyplot as plt"
   ]
  },
  {
   "cell_type": "code",
   "execution_count": null,
   "metadata": {},
   "outputs": [],
   "source": [
    "def get_args_parser():\n",
    "  parser = argparse.ArgumentParser(description=\"Training Config\")\n",
    "  parser.add_argument('--batch-size', default=64, type=int)\n",
    "  parser.add_argument('--epochs', default=300, type=int)\n",
    "  parser.add_argument('--device', default='cuda:0',\n",
    "                        help='device to use for training / testing')\n",
    "  parser.add_argument('--start_epoch', default=0, type=int, metavar='N',\n",
    "                        help='start epoch')\n",
    "\n",
    "  # Model parameters\n",
    "  parser.add_argument(\"--input-size\", default=None, nargs=3, type=int, help='images input size')\n",
    "\n",
    "  # Optimizer parameters\n",
    "  parser.add_argument('--opt', default='adamw', type=str, metavar='OPTIMIZER',\n",
    "                      help='Optimizer (default: \"adamw\"')\n",
    "  parser.add_argument('--opt-eps', default=1e-8, type=float, metavar='EPSILON',\n",
    "                      help='Optimizer Epsilon (default: 1e-8)')\n",
    "  parser.add_argument('--opt-betas', default=None, type=float, nargs='+', metavar='BETA',\n",
    "                      help='Optimizer Betas (default: None, use opt default)')\n",
    "  parser.add_argument('--clip-grad', type=float, default=None, metavar='NORM',\n",
    "                      help='Clip gradient norm (default: None, no clipping)')\n",
    "  parser.add_argument('--momentum', type=float, default=0.9, metavar='M',\n",
    "                      help='SGD momentum (default: 0.9)')\n",
    "  parser.add_argument('--weight-decay', type=float, default=0.05,\n",
    "                      help='weight decay (default: 0.05)')\n",
    "\n",
    "  # Learning rate schedule parameters\n",
    "  parser.add_argument(\"--lr\", type=float, default=0.01, metavar=\"LR\")\n",
    "  \n",
    "  return parser\n"
   ]
  },
  {
   "cell_type": "code",
   "execution_count": null,
   "metadata": {},
   "outputs": [],
   "source": [
    "args = get_args_parser().parse_args([\"--input-size\", \"3\", \"32\", \"32\"])\n",
    "args.epochs = 10\n",
    "Device = torch.device(\"cuda:0\" if torch.cuda.is_available() else \"cpu\")\n",
    "EPOCHS = args.epochs\n",
    "BATCH_SIZE = args.batch_size"
   ]
  },
  {
   "cell_type": "code",
   "execution_count": null,
   "metadata": {},
   "outputs": [],
   "source": [
    "transform = transforms.Compose([\n",
    "        transforms.Grayscale(num_output_channels=3),  # 1チャンネルを3チャンネルに変換\n",
    "        transforms.Resize((32, 32)),  # ViTモデルは大きな画像が必要\n",
    "        transforms.ToTensor()\n",
    "    ])\n",
    "train_data_loader = get_mnist_dataset(train=True, transform=transform, batch_size=BATCH_SIZE)\n",
    "test_data_loader = get_mnist_dataset(train=False, transform=transform, batch_size=BATCH_SIZE)\n",
    "examples = next(iter(train_data_loader))\n"
   ]
  },
  {
   "cell_type": "code",
   "execution_count": null,
   "metadata": {},
   "outputs": [],
   "source": [
    "show_images_instance = ShowImages()\n",
    "\n",
    "show_images_instance.show_images_loader(dataset_lodaer=train_data_loader, num_images_to_display=30)"
   ]
  },
  {
   "cell_type": "code",
   "execution_count": null,
   "metadata": {},
   "outputs": [],
   "source": [
    "# model = models.beit_base_16_224(num_classes=10, img_size=32)\n",
    "model = models.beit2_base_16_224(num_classes=10, img_size=32)"
   ]
  },
  {
   "cell_type": "code",
   "execution_count": null,
   "metadata": {},
   "outputs": [],
   "source": []
  }
 ],
 "metadata": {
  "kernelspec": {
   "display_name": "Python 3",
   "language": "python",
   "name": "python3"
  },
  "language_info": {
   "codemirror_mode": {
    "name": "ipython",
    "version": 3
   },
   "file_extension": ".py",
   "mimetype": "text/x-python",
   "name": "python",
   "nbconvert_exporter": "python",
   "pygments_lexer": "ipython3",
   "version": "3.8.10"
  }
 },
 "nbformat": 4,
 "nbformat_minor": 2
}
