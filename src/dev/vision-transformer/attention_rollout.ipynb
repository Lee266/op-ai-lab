{
 "cells": [
  {
   "cell_type": "code",
   "execution_count": 2,
   "id": "8ee40a5a-d8b7-495e-91c0-6d2eb99cdc8b",
   "metadata": {},
   "outputs": [],
   "source": [
    "import cv2\n",
    "import timm\n",
    "import torch\n",
    "import models\n",
    "import argparse\n",
    "import numpy as np\n",
    "import matplotlib.pyplot as plt \n",
    "import torchvision.transforms as transforms\n",
    "\n",
    "from PIL import Image\n",
    "from gradcam.utils import visualize_cam"
   ]
  },
  {
   "cell_type": "code",
   "execution_count": 12,
   "id": "ece88305-0bc6-4311-9d64-999782e50b3a",
   "metadata": {},
   "outputs": [],
   "source": [
    "# 引数の設定\n",
    "\n",
    "parser = argparse.ArgumentParser()\n",
    "parser.add_argument('--model', default='vit_tiny_patch16_224', choices=['vit_tiny_patch16_224', 'vit_small_patch16_18x2_224'], type=str, help='model name')\n",
    "parser.add_argument('--checkpoint', default='./ImageNet/tiny16/best_checkpoint.pth', type=str, help='checkpoint')\n",
    "# args=[]を追加する。\n",
    "args = parser.parse_args(args=[])"
   ]
  },
  {
   "cell_type": "code",
   "execution_count": 91,
   "metadata": {},
   "outputs": [],
   "source": [
    "# Attention Weightを取得するための関数 \n",
    "def extract(pre_model, target, inputs):\n",
    "    global blocks\n",
    "    blocks = None\n",
    "    def forward_hook(module, inputs, outputs):\n",
    "        # 順伝搬の出力を features というグローバル変数に記録する \n",
    "        global blocks\n",
    "        blocks = outputs.detach()\n",
    "        print(\"blocks:\", blocks.shape)\n",
    "    # コールバック関数を登録する\n",
    "    handle = target.register_forward_hook(forward_hook) # 推論する\n",
    "    pre_model.eval()\n",
    "    pre_model(inputs)\n",
    "    # コールバック関数を解除する\n",
    "    handle.remove()\n",
    "    return blocks"
   ]
  },
  {
   "cell_type": "code",
   "execution_count": 96,
   "metadata": {},
   "outputs": [
    {
     "ename": "AttributeError",
     "evalue": "'Dropout' object has no attribute 'shape'",
     "output_type": "error",
     "traceback": [
      "\u001b[0;31m---------------------------------------------------------------------------\u001b[0m",
      "\u001b[0;31mAttributeError\u001b[0m                            Traceback (most recent call last)",
      "\u001b[1;32m/usr/src/ai-lab/src/dev/vision-transformer/attention_rollout.ipynb Cell 4\u001b[0m line \u001b[0;36m2\n\u001b[1;32m     <a href='vscode-notebook-cell://attached-container%2B7b22636f6e7461696e65724e616d65223a222f61695f6c61625f6a7570797465725f677075227d/usr/src/ai-lab/src/dev/vision-transformer/attention_rollout.ipynb#W3sdnNjb2RlLXJlbW90ZQ%3D%3D?line=23'>24</a>\u001b[0m \u001b[39mfor\u001b[39;00m i \u001b[39min\u001b[39;00m \u001b[39mrange\u001b[39m(\u001b[39mlen\u001b[39m(model\u001b[39m.\u001b[39mblocks)):\n\u001b[1;32m     <a href='vscode-notebook-cell://attached-container%2B7b22636f6e7461696e65724e616d65223a222f61695f6c61625f6a7570797465725f677075227d/usr/src/ai-lab/src/dev/vision-transformer/attention_rollout.ipynb#W3sdnNjb2RlLXJlbW90ZQ%3D%3D?line=24'>25</a>\u001b[0m     target_module \u001b[39m=\u001b[39m model\u001b[39m.\u001b[39mblocks[i]\u001b[39m.\u001b[39mattn\u001b[39m.\u001b[39mattn_drop\n\u001b[0;32m---> <a href='vscode-notebook-cell://attached-container%2B7b22636f6e7461696e65724e616d65223a222f61695f6c61625f6a7570797465725f677075227d/usr/src/ai-lab/src/dev/vision-transformer/attention_rollout.ipynb#W3sdnNjb2RlLXJlbW90ZQ%3D%3D?line=25'>26</a>\u001b[0m     \u001b[39mprint\u001b[39m(target_module\u001b[39m.\u001b[39;49mshape)\n\u001b[1;32m     <a href='vscode-notebook-cell://attached-container%2B7b22636f6e7461696e65724e616d65223a222f61695f6c61625f6a7570797465725f677075227d/usr/src/ai-lab/src/dev/vision-transformer/attention_rollout.ipynb#W3sdnNjb2RlLXJlbW90ZQ%3D%3D?line=26'>27</a>\u001b[0m     features \u001b[39m=\u001b[39m extract(model, target_module, x\u001b[39m.\u001b[39mto(device)) \u001b[39m# shape: (1, H, N, N)\u001b[39;00m\n\u001b[1;32m     <a href='vscode-notebook-cell://attached-container%2B7b22636f6e7461696e65724e616d65223a222f61695f6c61625f6a7570797465725f677075227d/usr/src/ai-lab/src/dev/vision-transformer/attention_rollout.ipynb#W3sdnNjb2RlLXJlbW90ZQ%3D%3D?line=27'>28</a>\u001b[0m     attention_weight\u001b[39m.\u001b[39mappend([features\u001b[39m.\u001b[39mto(\u001b[39m'\u001b[39m\u001b[39mcpu\u001b[39m\u001b[39m'\u001b[39m)\u001b[39m.\u001b[39mdetach()\u001b[39m.\u001b[39mnumpy()\u001b[39m.\u001b[39mcopy()])\n",
      "File \u001b[0;32m/usr/local/lib/python3.8/dist-packages/torch/nn/modules/module.py:1695\u001b[0m, in \u001b[0;36mModule.__getattr__\u001b[0;34m(self, name)\u001b[0m\n\u001b[1;32m   1693\u001b[0m     \u001b[39mif\u001b[39;00m name \u001b[39min\u001b[39;00m modules:\n\u001b[1;32m   1694\u001b[0m         \u001b[39mreturn\u001b[39;00m modules[name]\n\u001b[0;32m-> 1695\u001b[0m \u001b[39mraise\u001b[39;00m \u001b[39mAttributeError\u001b[39;00m(\u001b[39mf\u001b[39m\u001b[39m\"\u001b[39m\u001b[39m'\u001b[39m\u001b[39m{\u001b[39;00m\u001b[39mtype\u001b[39m(\u001b[39mself\u001b[39m)\u001b[39m.\u001b[39m\u001b[39m__name__\u001b[39m\u001b[39m}\u001b[39;00m\u001b[39m'\u001b[39m\u001b[39m object has no attribute \u001b[39m\u001b[39m'\u001b[39m\u001b[39m{\u001b[39;00mname\u001b[39m}\u001b[39;00m\u001b[39m'\u001b[39m\u001b[39m\"\u001b[39m)\n",
      "\u001b[0;31mAttributeError\u001b[0m: 'Dropout' object has no attribute 'shape'"
     ]
    }
   ],
   "source": [
    "# ViTモデルを読み込む\n",
    "model = timm.create_model(args.model, pretrained=False)\n",
    "# 学習済みモデルを読み込む\n",
    "checkpoint = torch.load(args.checkpoint, map_location='cpu')\n",
    "model.load_state_dict(checkpoint[\"model\"])\n",
    "device = torch.device(\"cuda:0\" if torch.cuda.is_available() else \"cpu\")\n",
    "model.to(device)\n",
    "model.eval()\n",
    "\n",
    "# blockごと(Transformer Encoderのlayer)のAttention Weightを取得 # L:層数, H:ヘッド数、N:パッチ数+クラストークン \n",
    "attention_weight = []\n",
    "# 画像をリサイズしてセンタークロップ\n",
    "normalize = transforms.Normalize(mean=[0.485, 0.456, 0.406], std=[0.229, 0.224, 0.225]) \n",
    "transform = transforms.Compose([transforms.Resize(256), transforms.CenterCrop(224), transforms.ToTensor(), normalize,])\n",
    "invTrans = transforms.Compose([ transforms.Normalize(mean=[-0.485/0.229, -0.456/0.224, -0.406/0.255], std=[1/0.229, 1/0.224, 1/0.255]),])\n",
    "\n",
    "# 画像ファイルを読み込み\n",
    "#image = Image.open('/path/to/image')\n",
    "image = Image.open('./samples/bird.JPEG')\n",
    "\n",
    "x = transform(image) # shape :(3, 224, 224)\n",
    "x = x.view(1, *x.shape) # shape :(1, 3, 224, 224)\n",
    "\n",
    "for i in range(len(model.blocks)):\n",
    "    target_module = model.blocks[i].attn.attn_drop\n",
    "    features = extract(model, target_module, x.to(device)) # shape: (1, H, N, N)\n",
    "    attention_weight.append([features.to('cpu').detach().numpy().copy()])\n",
    "attention_weight = np.squeeze(np.concatenate(attention_weight), axis=1) # shape: (L, H, N, N)\n",
    "print(attention_weight.shape)\n",
    "\n",
    "# ヘッド方向に平均\n",
    "mean_head = np.mean(attention_weight, axis=1) # shape: (L, N, N)\n",
    "print(mean_head.shape)\n",
    "# NxNの単位行列を加算\n",
    "mean_head = mean_head + np.eye(mean_head.shape[1])\n",
    "# 正規化\n",
    "mean_head = mean_head / mean_head.sum(axis=(1, 2))[:, np.newaxis, np.newaxis] # 層方向に乗算\n",
    "v = mean_head[-1]\n",
    "for n in range(1, len(mean_head)):\n",
    "    v = np.matmul(v, mean_head[-1 - n])\n",
    "# クラストークンと各パッチトークン間とのAttention Weightから、\n",
    "# 入力画像サイズまで正規化しながらリサイズしてAttention Mapを生成\n",
    "mask = v[0, 1:].reshape(14, 14)\n",
    "attention_map = cv2.resize(mask / mask.max(), (x.shape[2], x.shape[3]))[..., np.newaxis]\n",
    "\n",
    "# 入力画像を正規化前に戻す\n",
    "inv_tensor = invTrans(x)[0]\n",
    "# Attention MapとAttentionをかけた画像を生成\n",
    "mask = torch.from_numpy(attention_map.astype(np.float32))\n",
    "_, result = visualize_cam(mask, inv_tensor.to(device))\n"
   ]
  },
  {
   "cell_type": "code",
   "execution_count": 109,
   "metadata": {},
   "outputs": [
    {
     "ename": "NameError",
     "evalue": "name 'inv_tensor' is not defined",
     "output_type": "error",
     "traceback": [
      "\u001b[0;31m---------------------------------------------------------------------------\u001b[0m",
      "\u001b[0;31mNameError\u001b[0m                                 Traceback (most recent call last)",
      "\u001b[1;32m/usr/src/ai-lab/src/dev/vision-transformer/attention_rollout.ipynb Cell 5\u001b[0m line \u001b[0;36m8\n\u001b[1;32m      <a href='vscode-notebook-cell://attached-container%2B7b22636f6e7461696e65724e616d65223a222f61695f6c61625f6a7570797465725f677075227d/usr/src/ai-lab/src/dev/vision-transformer/attention_rollout.ipynb#W4sdnNjb2RlLXJlbW90ZQ%3D%3D?line=5'>6</a>\u001b[0m plt\u001b[39m.\u001b[39myticks(color\u001b[39m=\u001b[39m\u001b[39m\"\u001b[39m\u001b[39mNone\u001b[39m\u001b[39m\"\u001b[39m)\n\u001b[1;32m      <a href='vscode-notebook-cell://attached-container%2B7b22636f6e7461696e65724e616d65223a222f61695f6c61625f6a7570797465725f677075227d/usr/src/ai-lab/src/dev/vision-transformer/attention_rollout.ipynb#W4sdnNjb2RlLXJlbW90ZQ%3D%3D?line=6'>7</a>\u001b[0m plt\u001b[39m.\u001b[39mtick_params(length\u001b[39m=\u001b[39m\u001b[39m0\u001b[39m)\n\u001b[0;32m----> <a href='vscode-notebook-cell://attached-container%2B7b22636f6e7461696e65724e616d65223a222f61695f6c61625f6a7570797465725f677075227d/usr/src/ai-lab/src/dev/vision-transformer/attention_rollout.ipynb#W4sdnNjb2RlLXJlbW90ZQ%3D%3D?line=7'>8</a>\u001b[0m plt\u001b[39m.\u001b[39mimshow(inv_tensor\u001b[39m.\u001b[39mpermute(\u001b[39m1\u001b[39m,\u001b[39m2\u001b[39m,\u001b[39m0\u001b[39m), vmin\u001b[39m=\u001b[39m\u001b[39m0\u001b[39m, vmax\u001b[39m=\u001b[39m\u001b[39m1\u001b[39m)\n\u001b[1;32m     <a href='vscode-notebook-cell://attached-container%2B7b22636f6e7461696e65724e616d65223a222f61695f6c61625f6a7570797465725f677075227d/usr/src/ai-lab/src/dev/vision-transformer/attention_rollout.ipynb#W4sdnNjb2RlLXJlbW90ZQ%3D%3D?line=9'>10</a>\u001b[0m plt\u001b[39m.\u001b[39msubplot(\u001b[39m1\u001b[39m, \u001b[39m3\u001b[39m, \u001b[39m2\u001b[39m)\n\u001b[1;32m     <a href='vscode-notebook-cell://attached-container%2B7b22636f6e7461696e65724e616d65223a222f61695f6c61625f6a7570797465725f677075227d/usr/src/ai-lab/src/dev/vision-transformer/attention_rollout.ipynb#W4sdnNjb2RlLXJlbW90ZQ%3D%3D?line=10'>11</a>\u001b[0m plt\u001b[39m.\u001b[39mtitle(\u001b[39m'\u001b[39m\u001b[39mattention\u001b[39m\u001b[39m'\u001b[39m)\n",
      "\u001b[0;31mNameError\u001b[0m: name 'inv_tensor' is not defined"
     ]
    },
    {
     "data": {
      "image/png": "[encoded data removed]",
      "text/plain": [
       "<Figure size 2000x2000 with 1 Axes>"
      ]
     },
     "metadata": {},
     "output_type": "display_data"
    }
   ],
   "source": [
    "# 入力画像, Attention Map, Attentionをかけた画像を表示 \n",
    "plt.figure(figsize=[20, 20])\n",
    "plt.subplot(1, 3, 1)\n",
    "plt.title('input')\n",
    "plt.xticks(color=\"None\")\n",
    "plt.yticks(color=\"None\")\n",
    "plt.tick_params(length=0)\n",
    "plt.imshow(inv_tensor.permute(1,2,0), vmin=0, vmax=1)\n",
    "\n",
    "plt.subplot(1, 3, 2)\n",
    "plt.title('attention')\n",
    "plt.xticks(color=\"None\")\n",
    "plt.yticks(color=\"None\")\n",
    "plt.tick_params(length=0)\n",
    "plt.imshow(attention_map, cmap='jet')\n",
    "\n",
    "plt.subplot(1, 3, 3)\n",
    "plt.title('plot')\n",
    "plt.xticks(color=\"None\")\n",
    "plt.yticks(color=\"None\")\n",
    "plt.tick_params(length=0)\n",
    "plt.imshow(result.detach().cpu().numpy().transpose(1, 2, 0))\n",
    "plt.savefig('./attention_rollout.pdf')\n",
    "plt.clf()\n"
   ]
  },
  {
   "cell_type": "code",
   "execution_count": null,
   "metadata": {},
   "outputs": [],
   "source": []
  }
 ],
 "metadata": {
  "kernelspec": {
   "display_name": "Python 3 (ipykernel)",
   "language": "python",
   "name": "python3"
  },
  "language_info": {
   "codemirror_mode": {
    "name": "ipython",
    "version": 3
   },
   "file_extension": ".py",
   "mimetype": "text/x-python",
   "name": "python",
   "nbconvert_exporter": "python",
   "pygments_lexer": "ipython3",
   "version": "3.8.10"
  }
 },
 "nbformat": 4,
 "nbformat_minor": 5
}
