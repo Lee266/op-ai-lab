{
 "cells": [
  {
   "cell_type": "code",
   "execution_count": 1,
   "id": "97fd20a6-0016-49fb-ac9d-43b8c797bc12",
   "metadata": {},
   "outputs": [],
   "source": [
    "import torch\n",
    "import torch.nn as nn"
   ]
  },
  {
   "cell_type": "code",
   "execution_count": 2,
   "id": "bfc89b46-ab77-4e0a-962d-305b2d593a02",
   "metadata": {},
   "outputs": [],
   "source": [
    "class SimpleMlp(nn.Module):\n",
    "    def __init__(self, vec_length:int=16, hidden_unit_1:int=8, hidden_unit_2:int=2):\n",
    "        \"\"\"\n",
    "        引数:\n",
    "            vec_length: 入力ベクトルの長さ \n",
    "            hidden_unit_1: 1つ目の線形層のニューロン数 \n",
    "            hidden_unit_2: 2つ目の線形層のニューロン数\n",
    "        \"\"\"\n",
    "        # 継承しているnn.Moduleの__init__()メソッドの呼び出し \n",
    "        super(SimpleMlp, self).__init__()\n",
    "        self.layer1 = nn.Linear(vec_length, hidden_unit_1)\n",
    "        self.relu = nn.ReLU()\n",
    "        self.layer2 = nn.Linear(hidden_unit_1, hidden_unit_2)\n",
    "\n",
    "    def forward(self, x: torch.Tensor) -> torch.Tensor:\n",
    "        \"\"\"順伝搬は、線形層→ReLU→線形層の順番 \n",
    "        引数:\n",
    "            x: 入力。(B, D_in)\n",
    "                B: バッチサイズ、 D_in: ベクトルのS長さ\n",
    "        返り値:\n",
    "            out: 出力。(B, D_out)\n",
    "                B: バッチサイズ、 D_out: ベクトルの長さ \n",
    "        \"\"\"\n",
    "        out = self.layer1(x)\n",
    "        out = self.relu(out)\n",
    "        out = self.layer2(out) \n",
    "        return out"
   ]
  },
  {
   "cell_type": "code",
   "execution_count": 3,
   "id": "515b7dad-41ed-4525-9e78-71ac23378cab",
   "metadata": {},
   "outputs": [
    {
     "name": "stdout",
     "output_type": "stream",
     "text": [
      "torch.Size([4, 2])\n"
     ]
    }
   ],
   "source": [
    "vec_length = 16 # 入力ベクトルの長さ \n",
    "hidden_unit_1 = 8 # 1つ目の線形層のニューロン数 \n",
    "hidden_unit_2 = 2 # 2つ目の線形層のニューロン数\n",
    "\n",
    "batch_size = 4 # バッチサイズ。入力ベクトルの数 \n",
    "\n",
    "# 入力ベクトル。xの形状: (4, 16)\n",
    "x = torch.randn(batch_size, vec_length)\n",
    "# MLPを定義\n",
    "net = SimpleMlp(vec_length, hidden_unit_1, hidden_unit_2) \n",
    "# MLPで順伝搬\n",
    "out = net(x)\n",
    "print(out.shape)"
   ]
  },
  {
   "cell_type": "code",
   "execution_count": null,
   "id": "ff0703e1-eac0-47ea-9d74-a44be248d671",
   "metadata": {},
   "outputs": [],
   "source": []
  }
 ],
 "metadata": {
  "kernelspec": {
   "display_name": "Python 3 (ipykernel)",
   "language": "python",
   "name": "python3"
  },
  "language_info": {
   "codemirror_mode": {
    "name": "ipython",
    "version": 3
   },
   "file_extension": ".py",
   "mimetype": "text/x-python",
   "name": "python",
   "nbconvert_exporter": "python",
   "pygments_lexer": "ipython3",
   "version": "3.8.10"
  }
 },
 "nbformat": 4,
 "nbformat_minor": 5
}
