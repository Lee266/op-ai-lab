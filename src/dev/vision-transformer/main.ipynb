{
 "cells": [
  {
   "cell_type": "code",
   "execution_count": 14,
   "metadata": {},
   "outputs": [],
   "source": [
    "import argparse\n",
    "import datetime\n",
    "import numpy as np\n",
    "import time\n",
    "import torch\n",
    "import torch.backends.cudnn as cudnn\n",
    "import json\n",
    "\n",
    "from pathlib import Path\n",
    "\n",
    "from timm.data import Mixup\n",
    "from timm.models import create_model\n",
    "from timm.loss import LabelSmoothingCrossEntropy, SoftTargetCrossEntropy\n",
    "from timm.scheduler import create_scheduler\n",
    "from timm.optim import create_optimizer\n",
    "from timm.utils import NativeScaler, get_state_dict, ModelEma\n",
    "\n",
    "# from datasets import build_dataset\n",
    "# from engine import train_one_epoch, evaluate\n",
    "# from losses import DistillationLoss\n",
    "# from samplers import RASampler\n",
    "import models\n",
    "# import utils"
   ]
  },
  {
   "cell_type": "code",
   "execution_count": 15,
   "metadata": {},
   "outputs": [],
   "source": [
    "def get_args_parser():\n",
    "    parser = argparse.ArgumentParser('DeiT training and evaluation script', add_help=False)\n",
    "    parser.add_argument('--batch-size', default=64, type=int)\n",
    "    parser.add_argument('--epochs', default=300, type=int)"
   ]
  },
  {
   "cell_type": "code",
   "execution_count": 16,
   "metadata": {},
   "outputs": [],
   "source": [
    "def main(args):\n",
    "    print(args)"
   ]
  },
  {
   "cell_type": "code",
   "execution_count": 17,
   "metadata": {},
   "outputs": [
    {
     "ename": "AttributeError",
     "evalue": "'NoneType' object has no attribute '_action_groups'",
     "output_type": "error",
     "traceback": [
      "\u001b[0;31m---------------------------------------------------------------------------\u001b[0m",
      "\u001b[0;31mAttributeError\u001b[0m                            Traceback (most recent call last)",
      "\u001b[1;32m/usr/src/ai-lab/src/dev/vision-transformer/main.ipynb Cell 4\u001b[0m line \u001b[0;36m2\n\u001b[1;32m      <a href='vscode-notebook-cell://attached-container%2B7b22636f6e7461696e65724e616d65223a222f61695f6c61625f6a7570797465725f677075227d/usr/src/ai-lab/src/dev/vision-transformer/main.ipynb#X16sdnNjb2RlLXJlbW90ZQ%3D%3D?line=0'>1</a>\u001b[0m \u001b[39mif\u001b[39;00m \u001b[39m__name__\u001b[39m \u001b[39m==\u001b[39m \u001b[39m'\u001b[39m\u001b[39m__main__\u001b[39m\u001b[39m'\u001b[39m:\n\u001b[0;32m----> <a href='vscode-notebook-cell://attached-container%2B7b22636f6e7461696e65724e616d65223a222f61695f6c61625f6a7570797465725f677075227d/usr/src/ai-lab/src/dev/vision-transformer/main.ipynb#X16sdnNjb2RlLXJlbW90ZQ%3D%3D?line=1'>2</a>\u001b[0m     parser \u001b[39m=\u001b[39m argparse\u001b[39m.\u001b[39;49mArgumentParser(\u001b[39m'\u001b[39;49m\u001b[39mDeiT training and evaluation script\u001b[39;49m\u001b[39m'\u001b[39;49m, parents\u001b[39m=\u001b[39;49m[get_args_parser()])\n\u001b[1;32m      <a href='vscode-notebook-cell://attached-container%2B7b22636f6e7461696e65724e616d65223a222f61695f6c61625f6a7570797465725f677075227d/usr/src/ai-lab/src/dev/vision-transformer/main.ipynb#X16sdnNjb2RlLXJlbW90ZQ%3D%3D?line=2'>3</a>\u001b[0m     args \u001b[39m=\u001b[39m parser\u001b[39m.\u001b[39mparse_args()\n\u001b[1;32m      <a href='vscode-notebook-cell://attached-container%2B7b22636f6e7461696e65724e616d65223a222f61695f6c61625f6a7570797465725f677075227d/usr/src/ai-lab/src/dev/vision-transformer/main.ipynb#X16sdnNjb2RlLXJlbW90ZQ%3D%3D?line=3'>4</a>\u001b[0m     \u001b[39mif\u001b[39;00m args\u001b[39m.\u001b[39moutput_dir:\n",
      "File \u001b[0;32m/usr/lib/python3.8/argparse.py:1703\u001b[0m, in \u001b[0;36mArgumentParser.__init__\u001b[0;34m(self, prog, usage, description, epilog, parents, formatter_class, prefix_chars, fromfile_prefix_chars, argument_default, conflict_handler, add_help, allow_abbrev)\u001b[0m\n\u001b[1;32m   1701\u001b[0m \u001b[39m# add parent arguments and defaults\u001b[39;00m\n\u001b[1;32m   1702\u001b[0m \u001b[39mfor\u001b[39;00m parent \u001b[39min\u001b[39;00m parents:\n\u001b[0;32m-> 1703\u001b[0m     \u001b[39mself\u001b[39;49m\u001b[39m.\u001b[39;49m_add_container_actions(parent)\n\u001b[1;32m   1704\u001b[0m     \u001b[39mtry\u001b[39;00m:\n\u001b[1;32m   1705\u001b[0m         defaults \u001b[39m=\u001b[39m parent\u001b[39m.\u001b[39m_defaults\n",
      "File \u001b[0;32m/usr/lib/python3.8/argparse.py:1445\u001b[0m, in \u001b[0;36m_ActionsContainer._add_container_actions\u001b[0;34m(self, container)\u001b[0m\n\u001b[1;32m   1443\u001b[0m \u001b[39m# map each action to its group\u001b[39;00m\n\u001b[1;32m   1444\u001b[0m group_map \u001b[39m=\u001b[39m {}\n\u001b[0;32m-> 1445\u001b[0m \u001b[39mfor\u001b[39;00m group \u001b[39min\u001b[39;00m container\u001b[39m.\u001b[39;49m_action_groups:\n\u001b[1;32m   1446\u001b[0m \n\u001b[1;32m   1447\u001b[0m     \u001b[39m# if a group with the title exists, use that, otherwise\u001b[39;00m\n\u001b[1;32m   1448\u001b[0m     \u001b[39m# create a new group matching the container's group\u001b[39;00m\n\u001b[1;32m   1449\u001b[0m     \u001b[39mif\u001b[39;00m group\u001b[39m.\u001b[39mtitle \u001b[39mnot\u001b[39;00m \u001b[39min\u001b[39;00m title_group_map:\n\u001b[1;32m   1450\u001b[0m         title_group_map[group\u001b[39m.\u001b[39mtitle] \u001b[39m=\u001b[39m \u001b[39mself\u001b[39m\u001b[39m.\u001b[39madd_argument_group(\n\u001b[1;32m   1451\u001b[0m             title\u001b[39m=\u001b[39mgroup\u001b[39m.\u001b[39mtitle,\n\u001b[1;32m   1452\u001b[0m             description\u001b[39m=\u001b[39mgroup\u001b[39m.\u001b[39mdescription,\n\u001b[1;32m   1453\u001b[0m             conflict_handler\u001b[39m=\u001b[39mgroup\u001b[39m.\u001b[39mconflict_handler)\n",
      "\u001b[0;31mAttributeError\u001b[0m: 'NoneType' object has no attribute '_action_groups'"
     ]
    }
   ],
   "source": [
    "if __name__ == '__main__':\n",
    "    parser = argparse.ArgumentParser('DeiT training and evaluation script', parents=[get_args_parser()])\n",
    "    args = parser.parse_args()\n",
    "    if args.output_dir:\n",
    "        Path(args.output_dir).mkdir(parents=True, exist_ok=True)\n",
    "    main(args)\n"
   ]
  },
  {
   "cell_type": "code",
   "execution_count": null,
   "metadata": {},
   "outputs": [],
   "source": []
  }
 ],
 "metadata": {
  "language_info": {
   "name": "python"
  }
 },
 "nbformat": 4,
 "nbformat_minor": 2
}
